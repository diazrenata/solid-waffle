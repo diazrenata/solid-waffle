{
 "cells": [
  {
   "cell_type": "code",
   "execution_count": 1,
   "id": "4dfcdf37",
   "metadata": {},
   "outputs": [
    {
     "name": "stdout",
     "output_type": "stream",
     "text": [
      "hello world\n"
     ]
    }
   ],
   "source": [
    "print(\"hello world\")"
   ]
  },
  {
   "cell_type": "markdown",
   "id": "82462d76",
   "metadata": {},
   "source": [
    "## Some thoughts about an hour long lesson\n",
    "\n",
    "* use a jupyter notebook to download data from portal and investigate some scientific question\n",
    "* for a single hour maybe keep it to accessing data and having a discussion about potential irregularities\n",
    "* possibly make a plot\n",
    "* and go over a workflow for sharing it via github/jupyter (as demo'd here)"
   ]
  }
 ],
 "metadata": {
  "kernelspec": {
   "display_name": "Python 3 (ipykernel)",
   "language": "python",
   "name": "python3"
  },
  "language_info": {
   "codemirror_mode": {
    "name": "ipython",
    "version": 3
   },
   "file_extension": ".py",
   "mimetype": "text/x-python",
   "name": "python",
   "nbconvert_exporter": "python",
   "pygments_lexer": "ipython3",
   "version": "3.9.12"
  }
 },
 "nbformat": 4,
 "nbformat_minor": 5
}
