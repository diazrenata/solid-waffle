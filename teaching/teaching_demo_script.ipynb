{
 "cells": [
  {
   "cell_type": "markdown",
   "id": "e7ea9579",
   "metadata": {},
   "source": [
    "# Actual lesson material"
   ]
  },
  {
   "cell_type": "markdown",
   "id": "442dbc82",
   "metadata": {},
   "source": [
    "## Setup"
   ]
  },
  {
   "cell_type": "markdown",
   "id": "bfccf736",
   "metadata": {},
   "source": [
    "### Background on Portal\n",
    "\n",
    "(see slides)\n",
    "\n",
    "Today, we're going to get started working with these data. Our goal today is to load the experimental data into our workspace, get familiar with some foundational methods for wrangling and visualizing temporal data, and use our visualizations to start to strategize how we would approach an analysis of these data. \n"
   ]
  },
  {
   "cell_type": "markdown",
   "id": "f64bc05b",
   "metadata": {},
   "source": [
    "### Workspace setup"
   ]
  },
  {
   "cell_type": "code",
   "execution_count": 1,
   "id": "a1c4ef89",
   "metadata": {},
   "outputs": [],
   "source": [
    "import pandas as pd\n",
    "import plotnine as p9\n",
    "import datetime as dt"
   ]
  },
  {
   "cell_type": "code",
   "execution_count": 2,
   "id": "e9ba3a13",
   "metadata": {},
   "outputs": [],
   "source": [
    "# Import data\n",
    "\n",
    "data = pd.read_csv(\"https://raw.githubusercontent.com/diazrenata/solid-waffle/main/rodent_abundance.csv\")"
   ]
  },
  {
   "cell_type": "code",
   "execution_count": 3,
   "id": "9bdd29e9",
   "metadata": {},
   "outputs": [
    {
     "data": {
      "text/html": [
       "<div>\n",
       "<style scoped>\n",
       "    .dataframe tbody tr th:only-of-type {\n",
       "        vertical-align: middle;\n",
       "    }\n",
       "\n",
       "    .dataframe tbody tr th {\n",
       "        vertical-align: top;\n",
       "    }\n",
       "\n",
       "    .dataframe thead th {\n",
       "        text-align: right;\n",
       "    }\n",
       "</style>\n",
       "<table border=\"1\" class=\"dataframe\">\n",
       "  <thead>\n",
       "    <tr style=\"text-align: right;\">\n",
       "      <th></th>\n",
       "      <th>censusdate</th>\n",
       "      <th>kangaroo_rat_abundance</th>\n",
       "      <th>pocket_mouse_abundance</th>\n",
       "    </tr>\n",
       "  </thead>\n",
       "  <tbody>\n",
       "    <tr>\n",
       "      <th>0</th>\n",
       "      <td>1979-09-22</td>\n",
       "      <td>3</td>\n",
       "      <td>0</td>\n",
       "    </tr>\n",
       "    <tr>\n",
       "      <th>1</th>\n",
       "      <td>1979-10-24</td>\n",
       "      <td>6</td>\n",
       "      <td>1</td>\n",
       "    </tr>\n",
       "    <tr>\n",
       "      <th>2</th>\n",
       "      <td>1979-11-17</td>\n",
       "      <td>4</td>\n",
       "      <td>1</td>\n",
       "    </tr>\n",
       "    <tr>\n",
       "      <th>3</th>\n",
       "      <td>1980-01-15</td>\n",
       "      <td>4</td>\n",
       "      <td>0</td>\n",
       "    </tr>\n",
       "    <tr>\n",
       "      <th>4</th>\n",
       "      <td>1980-02-24</td>\n",
       "      <td>2</td>\n",
       "      <td>0</td>\n",
       "    </tr>\n",
       "  </tbody>\n",
       "</table>\n",
       "</div>"
      ],
      "text/plain": [
       "   censusdate  kangaroo_rat_abundance  pocket_mouse_abundance\n",
       "0  1979-09-22                       3                       0\n",
       "1  1979-10-24                       6                       1\n",
       "2  1979-11-17                       4                       1\n",
       "3  1980-01-15                       4                       0\n",
       "4  1980-02-24                       2                       0"
      ]
     },
     "execution_count": 3,
     "metadata": {},
     "output_type": "execute_result"
    }
   ],
   "source": [
    "data.head()\n"
   ]
  },
  {
   "cell_type": "markdown",
   "id": "8785e310",
   "metadata": {},
   "source": [
    "(Pause to check on class)"
   ]
  },
  {
   "cell_type": "markdown",
   "id": "ad0dfe50",
   "metadata": {},
   "source": [
    "Ok, so let's orient to these  column names. "
   ]
  },
  {
   "cell_type": "markdown",
   "id": "cce5ff73",
   "metadata": {},
   "source": [
    "### Convert to datetime"
   ]
  },
  {
   "cell_type": "markdown",
   "id": "6cc149b7",
   "metadata": {},
   "source": [
    "Ok, so one approach would be to just jump in and make our plot! Let's try this.\n",
    "\n",
    "As a reminder, the `plotnine` package allows us to build plots using the grammar of graphics, meaning we add elements piece by piece. "
   ]
  },
  {
   "cell_type": "code",
   "execution_count": 4,
   "id": "f95b5b70",
   "metadata": {
    "scrolled": true
   },
   "outputs": [
    {
     "name": "stderr",
     "output_type": "stream",
     "text": [
      "/Users/renatadiaz/opt/anaconda3/lib/python3.9/site-packages/plotnine/geoms/geom_path.py:81: PlotnineWarning: geom_path: Each group consist of only one observation. Do you need to adjust the group aesthetic?\n"
     ]
    },
    {
     "data": {
      "image/png": "[encoded data removed]",
      "text/plain": [
       "<Figure size 640x480 with 1 Axes>"
      ]
     },
     "metadata": {},
     "output_type": "display_data"
    },
    {
     "data": {
      "text/plain": [
       "<ggplot: (8776263282875)>"
      ]
     },
     "execution_count": 4,
     "metadata": {},
     "output_type": "execute_result"
    }
   ],
   "source": [
    "(p9.ggplot(data, mapping = p9.aes(\"censusdate\", \"kangaroo_rat_abundance\")) + p9.geom_line())"
   ]
  },
  {
   "cell_type": "markdown",
   "id": "57e25a27",
   "metadata": {},
   "source": [
    "That didn't work! Let's look at this warning. Anyone know what it means?\n",
    "\n",
    "That's ok. This is pointing us to something being out of joint around the `censusdate` column. You may also notice that the axis labels on the bottom are squished together too tightly for us to read. \n",
    "\n",
    "What's going on here, is python doesn't understand that the `censusdate` column is a date. It's interpreting it as genertic string object. So when we ask it to make a line plot using the date as an axis, it doesn't know to organize the data points in the right temporal order, and it can't draw a line connecting them. \n",
    "\n",
    "We can see this more clearly if we check on the _data types_ in this data frame. This is, by the way, good practice in general. "
   ]
  },
  {
   "cell_type": "code",
   "execution_count": 5,
   "id": "40c6d54a",
   "metadata": {
    "scrolled": true
   },
   "outputs": [
    {
     "data": {
      "text/plain": [
       "censusdate                object\n",
       "kangaroo_rat_abundance     int64\n",
       "pocket_mouse_abundance     int64\n",
       "dtype: object"
      ]
     },
     "execution_count": 5,
     "metadata": {},
     "output_type": "execute_result"
    }
   ],
   "source": [
    "data.dtypes"
   ]
  },
  {
   "cell_type": "markdown",
   "id": "e78398f4",
   "metadata": {},
   "source": [
    "And here we see: DS and PP, our two rodent species, are recorded as integers. But `censusdate` is an object. \n",
    "\n",
    "This is a perennial struggle with temporal data. Have you ever tried doing this in excel? You've probably run into it there too. Fortunately, most programming languages have support for \"datetime\" data types. These will automatically take care of things like understanding that January comes after December, or understanding that there are 12 months in a year. \n",
    "\n",
    "To do this in python, we'll be working with the `datetime` module in pandas. Documentation here https://pandas.pydata.org/docs/user_guide/timeseries.html. The `datetime` module will have a lot of additional functionality that we'll get into later, but for now we want to communicate to python that the `censusdate` column is a date specified as the year, month, and day. \n",
    "\n",
    "For that, we have the `to_datetime` function. \n",
    "\n",
    "We need to tell the `to_datetime` function how the date is formatted. As we've seen before there are a lot of different ways to write a date, and we don't want the computer to have to _guess_ how the date is formatted.\n",
    "\n",
    "These data are written as the four-digit year, two digit month, two digit day. We commjnicate this to the computer using the `format` argument, like so:"
   ]
  },
  {
   "cell_type": "code",
   "execution_count": 6,
   "id": "bdf1930f",
   "metadata": {
    "scrolled": true
   },
   "outputs": [
    {
     "data": {
      "text/plain": [
       "0     1979-09-22\n",
       "1     1979-10-24\n",
       "2     1979-11-17\n",
       "3     1980-01-15\n",
       "4     1980-02-24\n",
       "         ...    \n",
       "429   2019-10-26\n",
       "430   2019-11-24\n",
       "431   2019-12-21\n",
       "432   2020-01-25\n",
       "433   2021-06-15\n",
       "Name: censusdate, Length: 434, dtype: datetime64[ns]"
      ]
     },
     "execution_count": 6,
     "metadata": {},
     "output_type": "execute_result"
    }
   ],
   "source": [
    "pd.to_datetime(data['censusdate'], format = \"%Y-%m-%d\")"
   ]
  },
  {
   "cell_type": "markdown",
   "id": "d966eb67",
   "metadata": {},
   "source": [
    "As we get deeper into timeseries, we'll encounter other ways of representing dates. \n",
    "\n",
    "In general, when we use a new function, it's a good idea to look up the arguments in the documentation. \n",
    "\n",
    "https://pandas.pydata.org/docs/reference/api/pandas.to_datetime.html"
   ]
  },
  {
   "cell_type": "markdown",
   "id": "4c021b1e",
   "metadata": {},
   "source": [
    "Looksl ike this has worked, so let's go ahead and update the `censusdate` column with the correctly-formatted data:"
   ]
  },
  {
   "cell_type": "code",
   "execution_count": 7,
   "id": "9243d2d5",
   "metadata": {},
   "outputs": [],
   "source": [
    "data['censusdate'] = pd.to_datetime(data['censusdate'], format = \"%Y-%m-%d\")"
   ]
  },
  {
   "cell_type": "markdown",
   "id": "a1a82150",
   "metadata": {},
   "source": [
    "And check that we've got the correct data types:"
   ]
  },
  {
   "cell_type": "code",
   "execution_count": 8,
   "id": "a8475770",
   "metadata": {
    "scrolled": true
   },
   "outputs": [
    {
     "data": {
      "text/plain": [
       "censusdate                datetime64[ns]\n",
       "kangaroo_rat_abundance             int64\n",
       "pocket_mouse_abundance             int64\n",
       "dtype: object"
      ]
     },
     "execution_count": 8,
     "metadata": {},
     "output_type": "execute_result"
    }
   ],
   "source": [
    "data.dtypes"
   ]
  },
  {
   "cell_type": "markdown",
   "id": "65408f31",
   "metadata": {},
   "source": [
    "(Pause to make sure the class has caught up)"
   ]
  },
  {
   "cell_type": "markdown",
   "id": "8df99931",
   "metadata": {},
   "source": [
    "## Plotting raw data with the `datetime` axis\n",
    "\n",
    "Ok, now let's see if we can plot the temporal data...\n",
    "\n",
    "I'm going to start by plotting the kangaroo rat data. \n"
   ]
  },
  {
   "cell_type": "code",
   "execution_count": 9,
   "id": "a50f3364",
   "metadata": {},
   "outputs": [
    {
     "data": {
      "image/png": "[encoded data removed]",
      "text/plain": [
       "<Figure size 640x480 with 1 Axes>"
      ]
     },
     "metadata": {},
     "output_type": "display_data"
    },
    {
     "data": {
      "text/plain": [
       "<ggplot: (8776279871281)>"
      ]
     },
     "execution_count": 9,
     "metadata": {},
     "output_type": "execute_result"
    }
   ],
   "source": [
    "(p9.ggplot(data, \n",
    "           mapping = p9.aes(\"censusdate\", \"kangaroo_rat_abundance\"))\n",
    " + p9.geom_line())"
   ]
  },
  {
   "cell_type": "markdown",
   "id": "9e1d48b3",
   "metadata": {},
   "source": [
    "Ok, so what do we see about these data over time? As a reminder, the site changed from a desert to a shrubland from the 1980s to the mid 1990s. How did the kangaroo rats seem to respond to that?\n",
    "\n",
    "Yeah, they hated it. In fact, they were believed to be locally extinct for a while. \n",
    "\n",
    "So that's the kangaroo rats. How about the pocket mice? I'm going to give you all a second to see if you can make this plot for the pocket mice without me. It's going to be very similar to the code we just used to make the kangaroo rat plot!"
   ]
  },
  {
   "cell_type": "code",
   "execution_count": 10,
   "id": "f7958e3c",
   "metadata": {},
   "outputs": [
    {
     "data": {
      "image/png": "[encoded data removed]",
      "text/plain": [
       "<Figure size 640x480 with 1 Axes>"
      ]
     },
     "metadata": {},
     "output_type": "display_data"
    },
    {
     "data": {
      "text/plain": [
       "<ggplot: (8776279871663)>"
      ]
     },
     "execution_count": 10,
     "metadata": {},
     "output_type": "execute_result"
    }
   ],
   "source": [
    "(p9.ggplot(data, \n",
    "           mapping = p9.aes(\"censusdate\", \"pocket_mouse_abundance\")) \n",
    " + p9.geom_line())"
   ]
  },
  {
   "cell_type": "markdown",
   "id": "b91e2a1e",
   "metadata": {},
   "source": [
    "So what do we see in these data for how the little pocket mice are responding over time?\n",
    "\n",
    "Yeah, they're getting more abundant. "
   ]
  },
  {
   "cell_type": "code",
   "execution_count": 11,
   "id": "173ce1c4",
   "metadata": {},
   "outputs": [],
   "source": [
    "#(p9.ggplot(data, mapping = p9.aes(\"censusdate\", \"kangaroo_rat_abundance\")) + \n",
    "# p9.geom_line() + \n",
    "# p9.geom_line(mapping = p9.aes(y = \"pocket_mouse_abundance\"), color = \"green\"))"
   ]
  },
  {
   "cell_type": "markdown",
   "id": "c3bc86c4",
   "metadata": {},
   "source": [
    "Okay, so we've got some preliminary insight from these plots about the general way things are trending over the course of 40 years. But these plots bring up some other concepts we're going to be learning a lot more about as we get into temporal data. \n",
    "\n",
    "Maybe some of you have already noticed, but there's a lot of variability in these data, especially the pocket mice, within years. In fact, this species essentially hibernates in the winter, meaning they're not captured at all. And that generates a very strong seasonal signal in the data. Many many of the systems we will be interested in looking at in terms of timeseries data will have seasonal signals.\n",
    "\n",
    "Discussion:\n",
    "\n",
    "- Examples of other seasonal data?\n",
    "\n",
    "\n",
    "Discussion: \n",
    "\n",
    "- Which poses a question: how would you approach analyzing data if we see it has a strong seasonal component? \n",
    "\n",
    "Coming out of that discussion:\n",
    "\n",
    "- One approach is to summarize things over the course of a year, taking either the mean or the sum. \n",
    "- There are more sophisticated approaches that involve \"decomposing\" a time series into different components. We'll progress to those in a later lesson.\n",
    "- For now, let's practice working with the datetime data type and compute some annual summaries for these data."
   ]
  },
  {
   "cell_type": "markdown",
   "id": "de8b47e7",
   "metadata": {},
   "source": [
    "## Manipulation of datetimes\n",
    "\n",
    "Ok, so what's the first step in computing *annual* summaries for these? Let's go back to the columns in this dataset."
   ]
  },
  {
   "cell_type": "code",
   "execution_count": 12,
   "id": "6b72f2ba",
   "metadata": {
    "scrolled": true
   },
   "outputs": [
    {
     "data": {
      "text/html": [
       "<div>\n",
       "<style scoped>\n",
       "    .dataframe tbody tr th:only-of-type {\n",
       "        vertical-align: middle;\n",
       "    }\n",
       "\n",
       "    .dataframe tbody tr th {\n",
       "        vertical-align: top;\n",
       "    }\n",
       "\n",
       "    .dataframe thead th {\n",
       "        text-align: right;\n",
       "    }\n",
       "</style>\n",
       "<table border=\"1\" class=\"dataframe\">\n",
       "  <thead>\n",
       "    <tr style=\"text-align: right;\">\n",
       "      <th></th>\n",
       "      <th>censusdate</th>\n",
       "      <th>kangaroo_rat_abundance</th>\n",
       "      <th>pocket_mouse_abundance</th>\n",
       "    </tr>\n",
       "  </thead>\n",
       "  <tbody>\n",
       "    <tr>\n",
       "      <th>0</th>\n",
       "      <td>1979-09-22</td>\n",
       "      <td>3</td>\n",
       "      <td>0</td>\n",
       "    </tr>\n",
       "    <tr>\n",
       "      <th>1</th>\n",
       "      <td>1979-10-24</td>\n",
       "      <td>6</td>\n",
       "      <td>1</td>\n",
       "    </tr>\n",
       "    <tr>\n",
       "      <th>2</th>\n",
       "      <td>1979-11-17</td>\n",
       "      <td>4</td>\n",
       "      <td>1</td>\n",
       "    </tr>\n",
       "    <tr>\n",
       "      <th>3</th>\n",
       "      <td>1980-01-15</td>\n",
       "      <td>4</td>\n",
       "      <td>0</td>\n",
       "    </tr>\n",
       "    <tr>\n",
       "      <th>4</th>\n",
       "      <td>1980-02-24</td>\n",
       "      <td>2</td>\n",
       "      <td>0</td>\n",
       "    </tr>\n",
       "  </tbody>\n",
       "</table>\n",
       "</div>"
      ],
      "text/plain": [
       "  censusdate  kangaroo_rat_abundance  pocket_mouse_abundance\n",
       "0 1979-09-22                       3                       0\n",
       "1 1979-10-24                       6                       1\n",
       "2 1979-11-17                       4                       1\n",
       "3 1980-01-15                       4                       0\n",
       "4 1980-02-24                       2                       0"
      ]
     },
     "execution_count": 12,
     "metadata": {},
     "output_type": "execute_result"
    }
   ],
   "source": [
    "data.head()"
   ]
  },
  {
   "cell_type": "markdown",
   "id": "331860a2",
   "metadata": {},
   "source": [
    "We have columns for `censusdate`, and we want to get the year out of that. The datetime datatype automatically understands this, so we can use `dt` to ask for specifically the year. "
   ]
  },
  {
   "cell_type": "code",
   "execution_count": 13,
   "id": "f8dfd6ff",
   "metadata": {},
   "outputs": [
    {
     "data": {
      "text/html": [
       "<div>\n",
       "<style scoped>\n",
       "    .dataframe tbody tr th:only-of-type {\n",
       "        vertical-align: middle;\n",
       "    }\n",
       "\n",
       "    .dataframe tbody tr th {\n",
       "        vertical-align: top;\n",
       "    }\n",
       "\n",
       "    .dataframe thead th {\n",
       "        text-align: right;\n",
       "    }\n",
       "</style>\n",
       "<table border=\"1\" class=\"dataframe\">\n",
       "  <thead>\n",
       "    <tr style=\"text-align: right;\">\n",
       "      <th></th>\n",
       "      <th>censusdate</th>\n",
       "      <th>kangaroo_rat_abundance</th>\n",
       "      <th>pocket_mouse_abundance</th>\n",
       "      <th>year</th>\n",
       "    </tr>\n",
       "  </thead>\n",
       "  <tbody>\n",
       "    <tr>\n",
       "      <th>0</th>\n",
       "      <td>1979-09-22</td>\n",
       "      <td>3</td>\n",
       "      <td>0</td>\n",
       "      <td>1979</td>\n",
       "    </tr>\n",
       "    <tr>\n",
       "      <th>1</th>\n",
       "      <td>1979-10-24</td>\n",
       "      <td>6</td>\n",
       "      <td>1</td>\n",
       "      <td>1979</td>\n",
       "    </tr>\n",
       "    <tr>\n",
       "      <th>2</th>\n",
       "      <td>1979-11-17</td>\n",
       "      <td>4</td>\n",
       "      <td>1</td>\n",
       "      <td>1979</td>\n",
       "    </tr>\n",
       "    <tr>\n",
       "      <th>3</th>\n",
       "      <td>1980-01-15</td>\n",
       "      <td>4</td>\n",
       "      <td>0</td>\n",
       "      <td>1980</td>\n",
       "    </tr>\n",
       "    <tr>\n",
       "      <th>4</th>\n",
       "      <td>1980-02-24</td>\n",
       "      <td>2</td>\n",
       "      <td>0</td>\n",
       "      <td>1980</td>\n",
       "    </tr>\n",
       "  </tbody>\n",
       "</table>\n",
       "</div>"
      ],
      "text/plain": [
       "  censusdate  kangaroo_rat_abundance  pocket_mouse_abundance  year\n",
       "0 1979-09-22                       3                       0  1979\n",
       "1 1979-10-24                       6                       1  1979\n",
       "2 1979-11-17                       4                       1  1979\n",
       "3 1980-01-15                       4                       0  1980\n",
       "4 1980-02-24                       2                       0  1980"
      ]
     },
     "execution_count": 13,
     "metadata": {},
     "output_type": "execute_result"
    }
   ],
   "source": [
    "data['year'] = data['censusdate'].dt.year\n",
    "\n",
    "data.head()"
   ]
  },
  {
   "cell_type": "markdown",
   "id": "ae501aa6",
   "metadata": {},
   "source": [
    "Ok, so we've gotten the `year` out. So now we can perform our usual group by transform operation (which I'll assume we have covered before):"
   ]
  },
  {
   "cell_type": "code",
   "execution_count": 14,
   "id": "f9516a97",
   "metadata": {
    "scrolled": false
   },
   "outputs": [
    {
     "data": {
      "text/html": [
       "<div>\n",
       "<style scoped>\n",
       "    .dataframe tbody tr th:only-of-type {\n",
       "        vertical-align: middle;\n",
       "    }\n",
       "\n",
       "    .dataframe tbody tr th {\n",
       "        vertical-align: top;\n",
       "    }\n",
       "\n",
       "    .dataframe thead th {\n",
       "        text-align: right;\n",
       "    }\n",
       "</style>\n",
       "<table border=\"1\" class=\"dataframe\">\n",
       "  <thead>\n",
       "    <tr style=\"text-align: right;\">\n",
       "      <th></th>\n",
       "      <th>year</th>\n",
       "      <th>kangaroo_rat_abundance</th>\n",
       "      <th>pocket_mouse_abundance</th>\n",
       "    </tr>\n",
       "  </thead>\n",
       "  <tbody>\n",
       "    <tr>\n",
       "      <th>0</th>\n",
       "      <td>1979</td>\n",
       "      <td>13</td>\n",
       "      <td>2</td>\n",
       "    </tr>\n",
       "    <tr>\n",
       "      <th>1</th>\n",
       "      <td>1980</td>\n",
       "      <td>82</td>\n",
       "      <td>3</td>\n",
       "    </tr>\n",
       "    <tr>\n",
       "      <th>2</th>\n",
       "      <td>1981</td>\n",
       "      <td>55</td>\n",
       "      <td>5</td>\n",
       "    </tr>\n",
       "    <tr>\n",
       "      <th>3</th>\n",
       "      <td>1982</td>\n",
       "      <td>55</td>\n",
       "      <td>4</td>\n",
       "    </tr>\n",
       "    <tr>\n",
       "      <th>4</th>\n",
       "      <td>1983</td>\n",
       "      <td>69</td>\n",
       "      <td>2</td>\n",
       "    </tr>\n",
       "  </tbody>\n",
       "</table>\n",
       "</div>"
      ],
      "text/plain": [
       "   year  kangaroo_rat_abundance  pocket_mouse_abundance\n",
       "0  1979                      13                       2\n",
       "1  1980                      82                       3\n",
       "2  1981                      55                       5\n",
       "3  1982                      55                       4\n",
       "4  1983                      69                       2"
      ]
     },
     "execution_count": 14,
     "metadata": {},
     "output_type": "execute_result"
    }
   ],
   "source": [
    "annual_data = data.groupby('year', as_index = False)[[\"kangaroo_rat_abundance\", \"pocket_mouse_abundance\"]].sum()\n",
    "annual_data\n",
    "\n",
    "annual_data.head()"
   ]
  },
  {
   "cell_type": "markdown",
   "id": "3d2a2e90",
   "metadata": {},
   "source": [
    "(pause to see who's with me)\n",
    "\n",
    "Ok! So, as a last step, let's remake our plot."
   ]
  },
  {
   "cell_type": "code",
   "execution_count": 15,
   "id": "20084671",
   "metadata": {
    "scrolled": true
   },
   "outputs": [
    {
     "data": {
      "image/png": "[encoded data removed]",
      "text/plain": [
       "<Figure size 640x480 with 1 Axes>"
      ]
     },
     "metadata": {},
     "output_type": "display_data"
    },
    {
     "data": {
      "text/plain": [
       "<ggplot: (8776312923308)>"
      ]
     },
     "execution_count": 15,
     "metadata": {},
     "output_type": "execute_result"
    }
   ],
   "source": [
    "(p9.ggplot(annual_data, mapping = p9.aes('year', 'kangaroo_rat_abundance')) + p9.geom_line())"
   ]
  },
  {
   "cell_type": "markdown",
   "id": "acbdc424",
   "metadata": {},
   "source": [
    "(p9.ggplot(annual_data, mapping = p9.aes('year', 'pocket_mouse_abundance')) + p9.geom_line())"
   ]
  },
  {
   "cell_type": "markdown",
   "id": "a783cda5",
   "metadata": {},
   "source": [
    "Ok, so to recap.\n",
    "\n",
    "- We've talked about why we as data scientists need to be familiar with time series.\n",
    "- We've gotten our feet wet working with timeseries in python, and done the hardest part, which is formatting dates \n",
    "- We've started to engage with some of the *conceptual* issues that make timeseries unique. We've used annual summaries to get around some of that, but next up we will be getting into more sophisticated methods for wrangling and analyzing temporal data.\n",
    "\n"
   ]
  }
 ],
 "metadata": {
  "kernelspec": {
   "display_name": "Python 3 (ipykernel)",
   "language": "python",
   "name": "python3"
  },
  "language_info": {
   "codemirror_mode": {
    "name": "ipython",
    "version": 3
   },
   "file_extension": ".py",
   "mimetype": "text/x-python",
   "name": "python",
   "nbconvert_exporter": "python",
   "pygments_lexer": "ipython3",
   "version": "3.9.12"
  }
 },
 "nbformat": 4,
 "nbformat_minor": 5
}
